{
 "cells": [
  {
   "cell_type": "code",
   "execution_count": 1,
   "id": "6fa230f5",
   "metadata": {},
   "outputs": [],
   "source": [
    "import tensorflow as tf\n",
    "from keras.preprocessing.image import ImageDataGenerator"
   ]
  },
  {
   "cell_type": "code",
   "execution_count": 2,
   "id": "58382785",
   "metadata": {},
   "outputs": [
    {
     "name": "stdout",
     "output_type": "stream",
     "text": [
      "Found 8000 images belonging to 2 classes.\n"
     ]
    }
   ],
   "source": [
    "train_datagen=ImageDataGenerator(rescale=1./255,\n",
    "                               shear_range=0.2,\n",
    "                               zoom_range=0.2,\n",
    "                               horizontal_flip= True)\n",
    "training_set=train_datagen.flow_from_directory('C:/Users/ridha/Desktop/Image-based species recognition/training_set',\n",
    "                                              target_size=(64,64), batch_size=32, class_mode='binary')"
   ]
  },
  {
   "cell_type": "code",
   "execution_count": 3,
   "id": "4a9cb3e7",
   "metadata": {},
   "outputs": [
    {
     "name": "stdout",
     "output_type": "stream",
     "text": [
      "Found 2000 images belonging to 2 classes.\n"
     ]
    }
   ],
   "source": [
    "test_datagen=ImageDataGenerator(rescale=1./255)\n",
    "test_set=train_datagen.flow_from_directory('C:/Users/ridha/Desktop/Image-based species recognition/test_set',\n",
    "                                              target_size=(64,64), batch_size=32, class_mode='binary')"
   ]
  },
  {
   "cell_type": "code",
   "execution_count": 4,
   "id": "09338e2c",
   "metadata": {},
   "outputs": [],
   "source": [
    "cnn=tf.keras.models.Sequential()"
   ]
  },
  {
   "cell_type": "code",
   "execution_count": 5,
   "id": "25fce06b",
   "metadata": {},
   "outputs": [],
   "source": [
    "cnn.add(tf.keras.layers.Conv2D(filters=32,kernel_size=3,activation='relu',input_shape=[64,64,3]))"
   ]
  },
  {
   "cell_type": "code",
   "execution_count": 6,
   "id": "b4554da2",
   "metadata": {},
   "outputs": [],
   "source": [
    "cnn.add(tf.keras.layers.MaxPool2D(pool_size=2,strides=2))"
   ]
  },
  {
   "cell_type": "code",
   "execution_count": 7,
   "id": "2ceb4a7e",
   "metadata": {},
   "outputs": [],
   "source": [
    "cnn.add(tf.keras.layers.Conv2D(filters=32,kernel_size=3,activation='relu'))\n",
    "cnn.add(tf.keras.layers.MaxPool2D(pool_size=2,strides=2))"
   ]
  },
  {
   "cell_type": "code",
   "execution_count": 8,
   "id": "a4c6a417",
   "metadata": {},
   "outputs": [],
   "source": [
    "cnn.add(tf.keras.layers.Flatten())"
   ]
  },
  {
   "cell_type": "code",
   "execution_count": 9,
   "id": "ebab0497",
   "metadata": {},
   "outputs": [],
   "source": [
    "cnn.add(tf.keras.layers.Dense(units=128,activation='relu'))"
   ]
  },
  {
   "cell_type": "code",
   "execution_count": 10,
   "id": "968d3180",
   "metadata": {},
   "outputs": [],
   "source": [
    "cnn.add(tf.keras.layers.Dense(units=1,activation='sigmoid'))"
   ]
  },
  {
   "cell_type": "code",
   "execution_count": 11,
   "id": "881b0717",
   "metadata": {},
   "outputs": [],
   "source": [
    "cnn.compile(optimizer='adam',loss='binary_crossentropy',metrics=['accuracy'])"
   ]
  },
  {
   "cell_type": "code",
   "execution_count": 12,
   "id": "fb66ff3b",
   "metadata": {},
   "outputs": [
    {
     "name": "stdout",
     "output_type": "stream",
     "text": [
      "Epoch 1/25\n",
      "250/250 [==============================] - 95s 378ms/step - loss: 0.6531 - accuracy: 0.6166 - val_loss: 0.6080 - val_accuracy: 0.6920\n",
      "Epoch 2/25\n",
      "250/250 [==============================] - 29s 114ms/step - loss: 0.5971 - accuracy: 0.6746 - val_loss: 0.5705 - val_accuracy: 0.7110\n",
      "Epoch 3/25\n",
      "250/250 [==============================] - 28s 114ms/step - loss: 0.5429 - accuracy: 0.7195 - val_loss: 0.5577 - val_accuracy: 0.7210\n",
      "Epoch 4/25\n",
      "250/250 [==============================] - 30s 120ms/step - loss: 0.5087 - accuracy: 0.7476 - val_loss: 0.5822 - val_accuracy: 0.7220\n",
      "Epoch 5/25\n",
      "250/250 [==============================] - 31s 124ms/step - loss: 0.4979 - accuracy: 0.7586 - val_loss: 0.5120 - val_accuracy: 0.7555\n",
      "Epoch 6/25\n",
      "250/250 [==============================] - 30s 122ms/step - loss: 0.4715 - accuracy: 0.7722 - val_loss: 0.4993 - val_accuracy: 0.7600\n",
      "Epoch 7/25\n",
      "250/250 [==============================] - 32s 129ms/step - loss: 0.4543 - accuracy: 0.7821 - val_loss: 0.4913 - val_accuracy: 0.7740\n",
      "Epoch 8/25\n",
      "250/250 [==============================] - 31s 125ms/step - loss: 0.4437 - accuracy: 0.7896 - val_loss: 0.4825 - val_accuracy: 0.7760\n",
      "Epoch 9/25\n",
      "250/250 [==============================] - 32s 126ms/step - loss: 0.4223 - accuracy: 0.8106 - val_loss: 0.4559 - val_accuracy: 0.7905\n",
      "Epoch 10/25\n",
      "250/250 [==============================] - 31s 125ms/step - loss: 0.4138 - accuracy: 0.8102 - val_loss: 0.5146 - val_accuracy: 0.7650\n",
      "Epoch 11/25\n",
      "250/250 [==============================] - 30s 121ms/step - loss: 0.4003 - accuracy: 0.8179 - val_loss: 0.4706 - val_accuracy: 0.7780\n",
      "Epoch 12/25\n",
      "250/250 [==============================] - 31s 124ms/step - loss: 0.3846 - accuracy: 0.8246 - val_loss: 0.4961 - val_accuracy: 0.7800\n",
      "Epoch 13/25\n",
      "250/250 [==============================] - 31s 124ms/step - loss: 0.3765 - accuracy: 0.8325 - val_loss: 0.4666 - val_accuracy: 0.7845\n",
      "Epoch 14/25\n",
      "250/250 [==============================] - 29s 115ms/step - loss: 0.3690 - accuracy: 0.8282 - val_loss: 0.4440 - val_accuracy: 0.7990\n",
      "Epoch 15/25\n",
      "250/250 [==============================] - 28s 114ms/step - loss: 0.3494 - accuracy: 0.8479 - val_loss: 0.4597 - val_accuracy: 0.7860\n",
      "Epoch 16/25\n",
      "250/250 [==============================] - 29s 116ms/step - loss: 0.3462 - accuracy: 0.8461 - val_loss: 0.4890 - val_accuracy: 0.7765\n",
      "Epoch 17/25\n",
      "250/250 [==============================] - 32s 126ms/step - loss: 0.3304 - accuracy: 0.8516 - val_loss: 0.4895 - val_accuracy: 0.7860\n",
      "Epoch 18/25\n",
      "250/250 [==============================] - 29s 114ms/step - loss: 0.3138 - accuracy: 0.8609 - val_loss: 0.4945 - val_accuracy: 0.7900\n",
      "Epoch 19/25\n",
      "250/250 [==============================] - 29s 117ms/step - loss: 0.3106 - accuracy: 0.8658 - val_loss: 0.4872 - val_accuracy: 0.7915\n",
      "Epoch 20/25\n",
      "250/250 [==============================] - 28s 114ms/step - loss: 0.2976 - accuracy: 0.8731 - val_loss: 0.4888 - val_accuracy: 0.7970\n",
      "Epoch 21/25\n",
      "250/250 [==============================] - 28s 114ms/step - loss: 0.2856 - accuracy: 0.8751 - val_loss: 0.4918 - val_accuracy: 0.7850\n",
      "Epoch 22/25\n",
      "250/250 [==============================] - 28s 113ms/step - loss: 0.2789 - accuracy: 0.8801 - val_loss: 0.5217 - val_accuracy: 0.7985\n",
      "Epoch 23/25\n",
      "250/250 [==============================] - 29s 114ms/step - loss: 0.2641 - accuracy: 0.8892 - val_loss: 0.5013 - val_accuracy: 0.7940\n",
      "Epoch 24/25\n",
      "250/250 [==============================] - 29s 114ms/step - loss: 0.2531 - accuracy: 0.8945 - val_loss: 0.5035 - val_accuracy: 0.7945\n",
      "Epoch 25/25\n",
      "250/250 [==============================] - 29s 115ms/step - loss: 0.2414 - accuracy: 0.8999 - val_loss: 0.5622 - val_accuracy: 0.7800\n"
     ]
    },
    {
     "data": {
      "text/plain": [
       "<keras.callbacks.History at 0x21a7fa55bd0>"
      ]
     },
     "execution_count": 12,
     "metadata": {},
     "output_type": "execute_result"
    }
   ],
   "source": [
    "cnn.fit(x=training_set,validation_data=test_set,epochs=25)"
   ]
  },
  {
   "cell_type": "code",
   "execution_count": 15,
   "id": "01fa2d37",
   "metadata": {},
   "outputs": [
    {
     "name": "stdout",
     "output_type": "stream",
     "text": [
      "1/1 [==============================] - 0s 18ms/step\n"
     ]
    }
   ],
   "source": [
    "import numpy as np\n",
    "from tensorflow.keras.preprocessing import image\n",
    "test_image=image.load_img('C:/Users/ridha/Desktop/Image-based species recognition/single_prediction/cat_dog9.jpg',\n",
    "                          target_size=(64,64))\n",
    "test_image=image.img_to_array(test_image)\n",
    "test_image=np.expand_dims(test_image,axis=0)\n",
    "result=cnn.predict(test_image)\n",
    "training_set.class_indices\n",
    "if result[0][0]==1:\n",
    "    prediction='dog'\n",
    "else:\n",
    "    prediction='cat'\n",
    "    "
   ]
  },
  {
   "cell_type": "code",
   "execution_count": 16,
   "id": "3ff9734b",
   "metadata": {},
   "outputs": [
    {
     "name": "stdout",
     "output_type": "stream",
     "text": [
      "dog\n"
     ]
    }
   ],
   "source": [
    "print(prediction)"
   ]
  },
  {
   "cell_type": "code",
   "execution_count": null,
   "id": "2caf2910",
   "metadata": {},
   "outputs": [],
   "source": []
  }
 ],
 "metadata": {
  "kernelspec": {
   "display_name": "Python 3 (ipykernel)",
   "language": "python",
   "name": "python3"
  },
  "language_info": {
   "codemirror_mode": {
    "name": "ipython",
    "version": 3
   },
   "file_extension": ".py",
   "mimetype": "text/x-python",
   "name": "python",
   "nbconvert_exporter": "python",
   "pygments_lexer": "ipython3",
   "version": "3.10.1"
  }
 },
 "nbformat": 4,
 "nbformat_minor": 5
}
